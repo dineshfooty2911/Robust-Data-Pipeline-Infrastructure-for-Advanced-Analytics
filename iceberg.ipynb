{
 "cells": [
  {
   "cell_type": "code",
   "execution_count": 1,
   "metadata": {},
   "outputs": [
    {
     "data": {
      "text/html": [
       "\n",
       "            <div>\n",
       "                <p><b>SparkSession - in-memory</b></p>\n",
       "                \n",
       "        <div>\n",
       "            <p><b>SparkContext</b></p>\n",
       "\n",
       "            <p><a href=\"http://host.docker.internal:4042\">Spark UI</a></p>\n",
       "\n",
       "            <dl>\n",
       "              <dt>Version</dt>\n",
       "                <dd><code>v3.5.1</code></dd>\n",
       "              <dt>Master</dt>\n",
       "                <dd><code>local[*]</code></dd>\n",
       "              <dt>AppName</dt>\n",
       "                <dd><code>Jupyter</code></dd>\n",
       "            </dl>\n",
       "        </div>\n",
       "        \n",
       "            </div>\n",
       "        "
      ],
      "text/plain": [
       "<pyspark.sql.session.SparkSession at 0x16f434271d0>"
      ]
     },
     "execution_count": 1,
     "metadata": {},
     "output_type": "execute_result"
    }
   ],
   "source": [
    "from pyspark.sql import SparkSession\n",
    "spark = SparkSession.builder.appName(\"Jupyter\").getOrCreate()\n",
    "\n",
    "spark"
   ]
  },
  {
   "cell_type": "code",
   "execution_count": 2,
   "metadata": {},
   "outputs": [],
   "source": [
    "from pyspark.sql import SparkSession\n",
    "\n",
    "# Initialize Spark session with Iceberg configurations\n",
    "spark = SparkSession.builder \\\n",
    "    .appName(\"IcebergExample\") \\\n",
    "    .config(\"spark.sql.extensions\", \"org.apache.iceberg.spark.extensions.IcebergSparkSessionExtensions\") \\\n",
    "    .config(\"spark.sql.catalog.my_catalog\", \"org.apache.iceberg.spark.SparkCatalog\") \\\n",
    "    .config(\"spark.sql.catalog.my_catalog.type\", \"hadoop\") \\\n",
    "    .config(\"spark.sql.catalog.my_catalog.warehouse\", r\"C:\\Users\\ksadi\\OneDrive\\Desktop\\Capstone_Project\\Warehouse\")\\\n",
    "    .getOrCreate()\n"
   ]
  },
  {
   "cell_type": "code",
   "execution_count": 3,
   "metadata": {},
   "outputs": [
    {
     "data": {
      "text/plain": [
       "DataFrame[]"
      ]
     },
     "execution_count": 3,
     "metadata": {},
     "output_type": "execute_result"
    }
   ],
   "source": [
    "spark.sql(\"CREATE DATABASE IF NOT EXISTS my_catalog.my_new_db\")"
   ]
  },
  {
   "cell_type": "code",
   "execution_count": 4,
   "metadata": {},
   "outputs": [
    {
     "data": {
      "text/plain": [
       "DataFrame[]"
      ]
     },
     "execution_count": 4,
     "metadata": {},
     "output_type": "execute_result"
    }
   ],
   "source": [
    "spark.sql(\"USE my_catalog.my_new_db\")"
   ]
  },
  {
   "cell_type": "code",
   "execution_count": 6,
   "metadata": {},
   "outputs": [
    {
     "data": {
      "text/plain": [
       "DataFrame[]"
      ]
     },
     "execution_count": 6,
     "metadata": {},
     "output_type": "execute_result"
    }
   ],
   "source": [
    "spark.sql(\"\"\"\n",
    "CREATE TABLE my_table (\n",
    "    name STRING,\n",
    "    age INT\n",
    ") USING iceberg\n",
    "\"\"\")"
   ]
  },
  {
   "cell_type": "code",
   "execution_count": 7,
   "metadata": {},
   "outputs": [
    {
     "data": {
      "text/plain": [
       "DataFrame[]"
      ]
     },
     "execution_count": 7,
     "metadata": {},
     "output_type": "execute_result"
    }
   ],
   "source": [
    "spark.sql(\"\"\"\n",
    "CREATE TABLE transport (\n",
    "    `Port Name` STRING,\n",
    "    `State` STRING,\n",
    "    `Port Code` INT,\n",
    "    `Border` STRING,\n",
    "    `Date` STRING,\n",
    "    `Measure` STRING,\n",
    "    `Value` INT,\n",
    "    `Latitude` DOUBLE,\n",
    "    `Longitude` DOUBLE,\n",
    "    `Point` STRING\n",
    ") USING iceberg\n",
    "\"\"\")"
   ]
  },
  {
   "cell_type": "code",
   "execution_count": 5,
   "metadata": {},
   "outputs": [
    {
     "name": "stdout",
     "output_type": "stream",
     "text": [
      "+---------+---------+-----------+\n",
      "|namespace|tableName|isTemporary|\n",
      "+---------+---------+-----------+\n",
      "|my_new_db| my_table|      false|\n",
      "|my_new_db|transport|      false|\n",
      "+---------+---------+-----------+\n",
      "\n"
     ]
    }
   ],
   "source": [
    "tables = spark.sql(\"SHOW TABLES\")\n",
    "tables.show()\n"
   ]
  },
  {
   "cell_type": "code",
   "execution_count": 6,
   "metadata": {},
   "outputs": [],
   "source": [
    "csv_file_path = \"transportation_data.csv\"\n",
    "df = spark.read.csv(csv_file_path, header=True, inferSchema=True)"
   ]
  },
  {
   "cell_type": "code",
   "execution_count": 7,
   "metadata": {},
   "outputs": [],
   "source": [
    "df.writeTo(\"my_catalog.my_new_db.transport\").append()"
   ]
  },
  {
   "cell_type": "code",
   "execution_count": 8,
   "metadata": {},
   "outputs": [],
   "source": [
    "transport_data = spark.sql(\"SELECT * FROM my_catalog.my_new_db.transport\")"
   ]
  },
  {
   "cell_type": "code",
   "execution_count": 9,
   "metadata": {},
   "outputs": [
    {
     "name": "stdout",
     "output_type": "stream",
     "text": [
      "+------------+------------+---------+----------------+--------+--------------------+------+--------+---------+--------------------+\n",
      "|   Port Name|       State|Port Code|          Border|    Date|             Measure| Value|Latitude|Longitude|               Point|\n",
      "+------------+------------+---------+----------------+--------+--------------------+------+--------+---------+--------------------+\n",
      "|        Roma|       Texas|     2310|US-Mexico Border|Dec 2023|               Buses|    46|  26.404|  -99.019|POINT (-99.018981...|\n",
      "|     Del Rio|       Texas|     2302|US-Mexico Border|Dec 2023|              Trucks|  6552|  29.327| -100.928|POINT (-100.92761...|\n",
      "|Willow Creek|     Montana|     3325|US-Canada Border|Jan 2024|         Pedestrians|     2|    49.0| -109.731|POINT (-109.73133...|\n",
      "|    Whitlash|     Montana|     3321|US-Canada Border|Jan 2024|   Personal Vehicles|    29|  48.997| -111.258|POINT (-111.25791...|\n",
      "|      Ysleta|       Texas|     2401|US-Mexico Border|Jan 2024|Personal Vehicle ...|521714|  31.673| -106.335|POINT (-106.33544...|\n",
      "|     Warroad|   Minnesota|     3423|US-Canada Border|Jan 2024|              Trucks|   837|  48.999|  -95.377|POINT (-95.376555...|\n",
      "|   Wildhorse|     Montana|     3323|US-Canada Border|Jan 2024|              Trucks|    20|  48.999| -110.215|POINT (-110.21508...|\n",
      "|   Wildhorse|     Montana|     3323|US-Canada Border|Jan 2024|Personal Vehicle ...|   965|  48.999| -110.215|POINT (-110.21508...|\n",
      "|    Westhope|North Dakota|     3419|US-Canada Border|Jan 2024|Truck Containers ...|   102|    49.0| -101.017|POINT (-101.01727...|\n",
      "|     Warroad|   Minnesota|     3423|US-Canada Border|Jan 2024|Truck Containers ...|   459|  48.999|  -95.377|POINT (-95.376555...|\n",
      "|      Ysleta|       Texas|     2401|US-Mexico Border|Jan 2024|Truck Containers ...| 21355|  31.673| -106.335|POINT (-106.33544...|\n",
      "|      Ysleta|       Texas|     2401|US-Mexico Border|Jan 2024|         Pedestrians|127217|  31.673| -106.335|POINT (-106.33544...|\n",
      "|   Wildhorse|     Montana|     3323|US-Canada Border|Jan 2024|   Personal Vehicles|   519|  48.999| -110.215|POINT (-110.21508...|\n",
      "|   Wildhorse|     Montana|     3323|US-Canada Border|Jan 2024|Truck Containers ...|    21|  48.999| -110.215|POINT (-110.21508...|\n",
      "|    Westhope|North Dakota|     3419|US-Canada Border|Jan 2024|   Personal Vehicles|   339|    49.0| -101.017|POINT (-101.01727...|\n",
      "|     Warroad|   Minnesota|     3423|US-Canada Border|Jan 2024|Truck Containers ...|   590|  48.999|  -95.377|POINT (-95.376555...|\n",
      "|      Ysleta|       Texas|     2401|US-Mexico Border|Jan 2024|Truck Containers ...| 63367|  31.673| -106.335|POINT (-106.33544...|\n",
      "|   Wildhorse|     Montana|     3323|US-Canada Border|Jan 2024|Truck Containers ...|    10|  48.999| -110.215|POINT (-110.21508...|\n",
      "|  Sweetgrass|     Montana|     3310|US-Canada Border|Jan 2024|Truck Containers ...|  1985|  48.998|  -111.96|POINT (-111.95961...|\n",
      "| Brownsville|       Texas|     2301|US-Mexico Border|Jan 2024|Rail Containers E...|  7712|  25.952|  -97.401|POINT (-97.40067 ...|\n",
      "+------------+------------+---------+----------------+--------+--------------------+------+--------+---------+--------------------+\n",
      "only showing top 20 rows\n",
      "\n"
     ]
    }
   ],
   "source": [
    "transport_data.show()"
   ]
  },
  {
   "cell_type": "code",
   "execution_count": null,
   "metadata": {},
   "outputs": [],
   "source": []
  }
 ],
 "metadata": {
  "kernelspec": {
   "display_name": ".venv",
   "language": "python",
   "name": "python3"
  },
  "language_info": {
   "codemirror_mode": {
    "name": "ipython",
    "version": 3
   },
   "file_extension": ".py",
   "mimetype": "text/x-python",
   "name": "python",
   "nbconvert_exporter": "python",
   "pygments_lexer": "ipython3",
   "version": "3.12.4"
  }
 },
 "nbformat": 4,
 "nbformat_minor": 2
}
